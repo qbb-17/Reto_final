{
  "nbformat": 4,
  "nbformat_minor": 0,
  "metadata": {
    "colab": {
      "provenance": [],
      "authorship_tag": "ABX9TyM+qwHhybOSwBRVkIiI4yPT",
      "include_colab_link": true
    },
    "kernelspec": {
      "name": "python3",
      "display_name": "Python 3"
    },
    "language_info": {
      "name": "python"
    }
  },
  "cells": [
    {
      "cell_type": "markdown",
      "metadata": {
        "id": "view-in-github",
        "colab_type": "text"
      },
      "source": [
        "<a href=\"https://colab.research.google.com/github/qbb-17/Reto_final/blob/main/Reato_final.ipynb\" target=\"_parent\"><img src=\"https://colab.research.google.com/assets/colab-badge.svg\" alt=\"Open In Colab\"/></a>"
      ]
    },
    {
      "cell_type": "code",
      "execution_count": null,
      "metadata": {
        "id": "NqGhU-T7AhnU"
      },
      "outputs": [],
      "source": [
        "#Importamos las librerías que utilizaremos en nuestro proyecto \n",
        "import pandas as pd\n",
        "import numpy as np\n",
        "import matplotlib.pyplot as plt\n",
        "import cufflinks as cf\n",
        "from IPython.display import display,HTML\n",
        "#Se definen temas\n",
        "cf.set_config_file(sharing='public',theme='pearl',offline=True) # write cf.getThemes() to find all themes available"
      ]
    },
    {
      "cell_type": "code",
      "source": [
        "#Leo mi archivo.csv\n",
        "Country = pd.read_csv(\"CountryTable.csv\")\n",
        "Country"
      ],
      "metadata": {
        "id": "PhvFRgLfAner"
      },
      "execution_count": null,
      "outputs": []
    },
    {
      "cell_type": "code",
      "source": [
        "#Revisemos nuestra base de datos para identificar valores nulos \n",
        "valores_nulos=Country.isnull().sum()\n",
        "valores_nulos\n",
        "#Encontramos valores nulos en las columnas independence_year, life_expectancy, gnp_old, local_name, head_of_state, capital y code2 "
      ],
      "metadata": {
        "id": "7CF3Bbq5AqIW"
      },
      "execution_count": null,
      "outputs": []
    },
    {
      "cell_type": "code",
      "source": [
        "#Realizaremos diversos métodos para reemplazar los valores nulos en las columnas indicadas\n",
        "\n",
        "#independence_year:Se reemplazarán los nulos con el valor \"1900\"\n",
        "Country[\"independence_year\"]= Country[\"independence_year\"].fillna(1900) \n",
        "\n",
        "#life_expectancy:Se reemplazará por el valor de la moda de la columna \n",
        "Country[\"life_expectancy\"]= Country[\"life_expectancy\"].fillna(value = Country[\"life_expectancy\"].mode()[0]) \n",
        "\n",
        "#gnp_old:Se reemplazará por el valor de la mediana de la columna\n",
        "Country[\"gnp_old\"]= Country[\"gnp_old\"].fillna(Country[\"gnp_old\"].median()) \n",
        "\n",
        "#local_name:Se reemplazará con el string \"Inexistente\"\n",
        "Country[\"local_name\"]= Country[\"local_name\"].fillna(\"Inexistente\") \n",
        "\n",
        "#head_of_state:Se reemplazará con el string \"Desconocido\"\n",
        "Country[\"head_of_state\"]= Country[\"head_of_state\"].fillna(\"Desconocido\") \n",
        "\n",
        "#capital: Se reemplazará con el valor 0\n",
        "Country[\"capital\"]= Country[\"capital\"].fillna(0) \n",
        "\n",
        "#code2: Se reemplazará con el string NA\n",
        "Country[\"code2\"]= Country[\"code2\"].fillna(\"NA\") "
      ],
      "metadata": {
        "id": "DDNf623rAuF0"
      },
      "execution_count": null,
      "outputs": []
    },
    {
      "cell_type": "code",
      "source": [
        "#Comprobamos que los cambios se hayan realizado de manera satisfactoria \n",
        "valores_nulos=Country.isnull().sum().sum()\n",
        "valores_nulos"
      ],
      "metadata": {
        "id": "i4VV6EsLAyXQ"
      },
      "execution_count": null,
      "outputs": []
    },
    {
      "cell_type": "code",
      "source": [
        "#El análisis de nuestra base de datos nos orienta a buscar outliers en las columnas gnp_old y population \n",
        "#gnp_old\n",
        "#Realizamos diagrama de caja o bigote de cada columna del dataframe para identificar outliers\n",
        "fig = plt.figure(figsize =(15, 8))\n",
        "Country[\"gnp_old\"].plot(kind='box', vert=False)\n",
        "plt.title(\"Boxplot de gnp_old\")\n",
        "plt.show() \n",
        "#Se observa que existen un buen número de valores atípicos en la columna. Ahora procedemos con identificarlos"
      ],
      "metadata": {
        "id": "sy_CmfToAzkR"
      },
      "execution_count": null,
      "outputs": []
    },
    {
      "cell_type": "code",
      "source": [
        "#Para ambas columnas utilizaremos el método de distribución normal \n",
        "#Comencemos identificando los límites superiores e inferiores de los valores de la columna gnp_old\n",
        "#Utilizaremos como límite 2 desviaciones estándar \n",
        "y=Country[\"gnp_old\"]\n",
        "Limite_Superior= y.mean() + 2*y.std()\n",
        "Limite_Inferior= y.mean() - 2 *y.std()\n",
        "print(\"Limite superior permitido\", Limite_Superior)\n",
        "print(\"Limite inferior permitido\", Limite_Inferior)"
      ],
      "metadata": {
        "id": "MiWfybovA1i4"
      },
      "execution_count": null,
      "outputs": []
    },
    {
      "cell_type": "code",
      "source": [
        "#Una vez definidos los límites, encontramos los outliers de la columna\n",
        "outliers= Country[(y>Limite_Superior)|(y<Limite_Inferior)]\n",
        "outliers"
      ],
      "metadata": {
        "id": "kmJ6Dhv4A5Bf"
      },
      "execution_count": null,
      "outputs": []
    },
    {
      "cell_type": "code",
      "source": [
        "#Ahora efectuamos el mismo procedimiento con la columna population\n",
        "#Realizamos diagrama de caja o bigote de cada columna del dataframe para identificar outliers\n",
        "fig = plt.figure(figsize =(15, 8))\n",
        "Country[\"population\"].plot(kind='box', vert=False)\n",
        "plt.title(\"Boxplot de population\")\n",
        "plt.show() \n",
        "#Observamos que existen un buen número de valores atípicos en la columna. Ahora procedemos con identificarlos"
      ],
      "metadata": {
        "id": "WKhTuDt0A8Z4"
      },
      "execution_count": null,
      "outputs": []
    },
    {
      "cell_type": "code",
      "source": [
        "#Comencemos identificando los límites superiores e inferiores de los valores de la columna population\n",
        "#Utilizaremos como límite 2 desviaciones estándar \n",
        "y1=Country[\"population\"]\n",
        "Limite_Superior_pop= y1.mean() + 2*y1.std()\n",
        "Limite_Inferior_pop= y1.mean() - 2 *y1.std()\n",
        "print(\"Limite superior permitido\", Limite_Superior_pop)\n",
        "print(\"Limite inferior permitido\", Limite_Inferior_pop)"
      ],
      "metadata": {
        "id": "06g-mEd2A9eF"
      },
      "execution_count": null,
      "outputs": []
    },
    {
      "cell_type": "code",
      "source": [
        "#Una vez definidos los límites, encontramos los outliers de la columna\n",
        "outliers_pop= Country[(y1>Limite_Superior_pop)|(y1<Limite_Inferior_pop)]\n",
        "outliers_pop\n",
        "#Se obtienen los datos sin outliers del data frame \n",
        "Country= Country[(y1<=Limite_Superior_pop)&(y1>=Limite_Inferior_pop)]\n",
        "Country"
      ],
      "metadata": {
        "id": "quP4jhobBAhw"
      },
      "execution_count": null,
      "outputs": []
    },
    {
      "cell_type": "code",
      "source": [
        "#Probemos un segundo método para identificar outliers para las columnas gnp_old, surface_area, life_expectancy, y population \n",
        "#Comencemos con la columna gnp_old\n",
        "z=Country[\"gnp_old\"]\n",
        "\n",
        "percentile25=z.quantile(0.25) #Q1\n",
        "percentile75=z.quantile(0.75) #Q3\n",
        "iqr= percentile75 - percentile25\n",
        "\n",
        "Limite_Superior_iqr= percentile75 + 1.3*iqr\n",
        "Limite_Inferior_iqr= percentile25 - 1.3*iqr\n",
        "print(\"Limite superior permitido\", Limite_Superior_iqr)\n",
        "print(\"Limite inferior permitido\", Limite_Inferior_iqr)\n",
        "#Observamos que la obtención de los límites parece más precisa utilizando este método "
      ],
      "metadata": {
        "id": "_V8XtBZrBCWC"
      },
      "execution_count": null,
      "outputs": []
    },
    {
      "cell_type": "code",
      "source": [
        "#Una vez definidos los límites, ahora encontremos los outliers de la columna \n",
        "outliers_iqr= Country[(z>Limite_Superior_iqr)|(z<Limite_Inferior_iqr)]\n",
        "outliers_iqr\n",
        "#A pesar de que este método parece hacer un mejor trabajo identificando outliers, dependerá del  objetivo del análisis si se excluyen datos de países tan importantes"
      ],
      "metadata": {
        "id": "Ljj3BxmvBEan"
      },
      "execution_count": null,
      "outputs": []
    },
    {
      "cell_type": "code",
      "source": [
        "#Para la columna surface_area visualicemos los outliers en un diagrama de caja \n",
        "fig = plt.figure(figsize =(15, 8))\n",
        "Country[\"surface_area\"].plot(kind='box', vert=False)\n",
        "plt.title(\"Boxplot de surface_area\")\n",
        "plt.show() \n",
        "#Observamos que existen un buen número de outliers en la columna que nos habla acerca de la extensión territorial "
      ],
      "metadata": {
        "id": "Hhvsj7UWBF0m"
      },
      "execution_count": null,
      "outputs": []
    },
    {
      "cell_type": "code",
      "source": [
        "#Comencemos identificando los límites superiores e inferiores de los valores de la columna surface_area\n",
        "s=Country[\"surface_area\"]\n",
        "\n",
        "percentile25=s.quantile(0.25) #Q1\n",
        "percentile75=s.quantile(0.75) #Q3\n",
        "iqr_s= percentile75 - percentile25\n",
        "\n",
        "LS_s= percentile75 + 1.3*iqr_s\n",
        "LI_s= percentile25 - 1.3*iqr_s\n",
        "print(\"Limite superior permitido\", LS_s)\n",
        "print(\"Limite inferior permitido\", LI_s)"
      ],
      "metadata": {
        "id": "E11HBURGBIbU"
      },
      "execution_count": null,
      "outputs": []
    },
    {
      "cell_type": "code",
      "source": [
        "#Una vez definidos los límites, ahora encontremos los outliers de la columna \n",
        "outliers_s= Country[(s>LS_s)|(s<LI_s)]\n",
        "outliers_s\n",
        "#Se obtienen los valores sin outliers \n",
        "Country= Country[(s<=LS_s)&(s>=LI_s)]\n",
        "Country"
      ],
      "metadata": {
        "id": "zhN4w0dsBKVC"
      },
      "execution_count": null,
      "outputs": []
    },
    {
      "cell_type": "code",
      "source": [
        "#Para la columna life_expectancy visualicemos los outliers en un diagrama de caja \n",
        "fig = plt.figure(figsize =(15, 8))\n",
        "Country[\"life_expectancy\"].plot(kind='box', vert=False)\n",
        "plt.title(\"Boxplot de life_expectancy\")\n",
        "plt.show() \n",
        "#Observamos que existen outliers en la parte inferior de nuestro box plot "
      ],
      "metadata": {
        "id": "1G4YyqodBL62"
      },
      "execution_count": null,
      "outputs": []
    },
    {
      "cell_type": "code",
      "source": [
        "#Procedemos con la columna life_expectancy \n",
        "life=Country[\"life_expectancy\"]\n",
        "\n",
        "percentile25=life.quantile(0.25) #Q1\n",
        "percentile75=life.quantile(0.75) #Q3\n",
        "iqr_life= percentile75 - percentile25\n",
        "\n",
        "LS_life= percentile75 + 1.3*iqr_life\n",
        "LI_life= percentile25 - 1.3*iqr_life\n",
        "print(\"Limite superior permitido\", LS_life)\n",
        "print(\"Limite inferior permitido\", LI_life)"
      ],
      "metadata": {
        "id": "GaSUJfFzBNpZ"
      },
      "execution_count": null,
      "outputs": []
    },
    {
      "cell_type": "code",
      "source": [
        "#Una vez definidos los límites, ahora encontremos los outliers de la columna \n",
        "outliers_life= Country[(life>LS_life)|(life<LI_life)]\n",
        "outliers_life\n",
        "#Obtenemos los valores de expectativa de vida que habíamos visto en nuestro boxplot "
      ],
      "metadata": {
        "id": "Sz5X0DTIBQOu"
      },
      "execution_count": null,
      "outputs": []
    },
    {
      "cell_type": "code",
      "source": [
        "#Finalmente realizamos la identificación de outliers de la columna population\n",
        "#Como habíamos visto anteriormente en nuestro primer boxplot, la columna tiene un buen número de outliers \n",
        "#Veamos si este método de identificación resulta una mejor opción que el de la distribución normal\n",
        "\n",
        "pop=Country[\"population\"]\n",
        "percentile25=pop.quantile(0.25) #Q1\n",
        "percentile75=pop.quantile(0.75) #Q3\n",
        "iqr_pop= percentile75 - percentile25\n",
        "\n",
        "LS_pop= percentile75 + 1.3*iqr_pop\n",
        "LI_pop= percentile25 - 1.3*iqr_pop\n",
        "print(\"Limite superior permitido\", LS_pop)\n",
        "print(\"Limite inferior permitido\", LI_pop)"
      ],
      "metadata": {
        "id": "HALkfMZBBSIg"
      },
      "execution_count": null,
      "outputs": []
    },
    {
      "cell_type": "code",
      "source": [
        "#Una vez definidos los límites, ahora encontremos los outliers de la columna \n",
        "out_pop= Country[(pop>LS_pop)|(pop<LI_pop)]\n",
        "out_pop\n",
        "#Observamos que a diferencia del método de distribución normal, nuestros límites con el método de rango intercuartílico son más estrechos\n",
        "#Por lo que tenemos más outliers \n",
        "#Se obtienen los datos sin outliers del data frame \n",
        "Country= Country[(pop<=LS_pop)&(pop>=LI_pop)]\n",
        "Country"
      ],
      "metadata": {
        "id": "PsfG8CHjBUDN"
      },
      "execution_count": null,
      "outputs": []
    },
    {
      "cell_type": "code",
      "source": [
        "#Aplicaremos el método de distribución normal, pero ahora utilizando 3 desviaciones estándar para la variable gnp_old\n",
        "#Ahora, utilizaremos como límite 3 desviaciones estándar \n",
        "old=Country[\"gnp_old\"]\n",
        "Limite_Superior_old= old.mean() + 3*old.std()\n",
        "Limite_Inferior_old= old.mean() - 3*old.std()\n",
        "print(\"Limite superior permitido\", Limite_Superior_old)\n",
        "print(\"Limite inferior permitido\", Limite_Inferior_old)"
      ],
      "metadata": {
        "id": "e0t1CYE2BVoz"
      },
      "execution_count": null,
      "outputs": []
    },
    {
      "cell_type": "code",
      "source": [
        "#Ahora obtenemos los outliers \n",
        "outliers_old= Country[(old>Limite_Superior_old)|(old<Limite_Inferior_old)]\n",
        "outliers_old\n",
        "#Observamos que hemos reducido nuestra cantidad de outliers "
      ],
      "metadata": {
        "id": "ZhwOporbBXdg"
      },
      "execution_count": null,
      "outputs": []
    },
    {
      "cell_type": "code",
      "source": [
        "#Ahora sustituiremos estos 3 valores por el promedio de la columna gnp_old \n",
        "old_mean = Country['gnp_old'].mean()\n",
        "old_mean\n",
        "Country['gnp_old'] = Country['gnp_old'].replace([2102826.0],old_mean)\n",
        "Country['gnp_old'] = Country['gnp_old'].replace([4192638.0],old_mean)\n",
        "Country['gnp_old'] = Country['gnp_old'].replace([8110900.0],old_mean)"
      ],
      "metadata": {
        "id": "zD2GRAWhBZMw"
      },
      "execution_count": null,
      "outputs": []
    },
    {
      "cell_type": "code",
      "source": [
        "# Una vez reemplazados los valores nulos e identificados y sustituidos los outliers seguimos con la visualización \n",
        "# Para poder realizar las visualizaciones de nuestro dataframe hagamos algunas restructuraciones \n",
        "#La función pivot establece un índice, columns establece las columnas (índice, columnas y datos)\n",
        "#La columna elegida como índice no debe tener entradas duplicadas \n",
        "Cvis= Country.pivot(index='code', columns='continent',  values='population')\n",
        "Cvis"
      ],
      "metadata": {
        "id": "KuerVKW-Ba3A"
      },
      "execution_count": null,
      "outputs": []
    },
    {
      "cell_type": "code",
      "source": [
        "# Gráfico de líneas: \n",
        "# Se elabora un gráfico acerca de la población por país y por continente\n",
        "# plotting\n",
        "Cvis.iplot(kind='line', xTitle='Country code',\n",
        "                           yTitle='Population', title='Población por país y continente')"
      ],
      "metadata": {
        "id": "c8mzqKSWBcne"
      },
      "execution_count": null,
      "outputs": []
    },
    {
      "cell_type": "code",
      "source": [
        "#Gráfico de barras \n",
        "#Se elabora un gráfico de barras acerca de la población por país y por continente\n",
        "Cvis.iplot(kind='bar', xTitle='Country code',\n",
        "                           yTitle='Population', title='Población por país y continente')\n",
        "#Podemos ver que esta gráfica representa de mejor manera nuestra información "
      ],
      "metadata": {
        "id": "dx000FYCBfJy"
      },
      "execution_count": null,
      "outputs": []
    },
    {
      "cell_type": "code",
      "source": [
        "#Box plot\n",
        "# Se elabora un boxplot acerca de la población por continente\n",
        "Cvis.iplot(kind='box', xTitle='Country code',\n",
        "                    yTitle='Population', title='Población por país y continente')"
      ],
      "metadata": {
        "id": "9PP2JQaqBiaQ"
      },
      "execution_count": null,
      "outputs": []
    },
    {
      "cell_type": "code",
      "source": [
        "#Histograma\n",
        "# Se elabora un histograma de frecuencia de la población de los países del continente africano \n",
        "Cvis[[\"Africa\"]].iplot(kind='hist',xTitle='Población', \n",
        "                           title='Distribución de la población de los países del continente africano')"
      ],
      "metadata": {
        "id": "5eiSpxLUBj6V"
      },
      "execution_count": null,
      "outputs": []
    },
    {
      "cell_type": "code",
      "source": [
        "#Scatterplot: \n",
        "#Se grafica un scatterplot para representar población por país y contienente \n",
        "Cvis.iplot(kind='scatter', mode='markers',xTitle='Country code', \n",
        "                               title='Población por país y continente')\n"
      ],
      "metadata": {
        "id": "6DqjxbU5Bl_E"
      },
      "execution_count": null,
      "outputs": []
    },
    {
      "cell_type": "code",
      "source": [
        "# Para poder realizar las visualizaciones de nuestro dataframe hagamos algunas restructuraciones \n",
        "#La función pivot establece un índice, columns establece las columnas (índice, columnas y datos)\n",
        "#La columna elegida como índice no debe tener entradas duplicadas \n",
        "Cgra= Country.pivot(index='name', columns='region',  values='surface_area')\n",
        "Cgra"
      ],
      "metadata": {
        "id": "meQzpexnBoB4"
      },
      "execution_count": null,
      "outputs": []
    },
    {
      "cell_type": "code",
      "source": [
        "# Gráfico de líneas: \n",
        "# Se elabora un gráfico acerca de la superficie por país y región \n",
        "# plotting\n",
        "Cgra.iplot(kind='line', xTitle='Nombre del país',\n",
        "                           yTitle='Superficie', title='Superficie por país y región')"
      ],
      "metadata": {
        "id": "7wL0FgnrBt_7"
      },
      "execution_count": null,
      "outputs": []
    },
    {
      "cell_type": "code",
      "source": [
        "#Gráfico de barras \n",
        "#Se elabora un gráfico de barras acerca de la superficie por país y región \n",
        "#Se elabora un gráfico de barras acerca de la población por país y por continente\n",
        "Cgra.iplot(kind='bar', xTitle='Nombre del país',\n",
        "                           yTitle='Superficie', title='Superficie por país y región')"
      ],
      "metadata": {
        "id": "kXDcKJZ3Bvti"
      },
      "execution_count": null,
      "outputs": []
    },
    {
      "cell_type": "code",
      "source": [
        "#Boxplot\n",
        "#Se elabora un boxplot acerca de la superficie por país y región \n",
        "Cgra.iplot(kind='box', xTitle='Nombre del país',\n",
        "                    yTitle='Superficie', title='Superficie por región')"
      ],
      "metadata": {
        "id": "puVdlKpIBxfx"
      },
      "execution_count": null,
      "outputs": []
    },
    {
      "cell_type": "code",
      "source": [
        "#Histograma\n",
        "# Se elabora un histograma de frecuencia de la superficie de paises de la región de Eastern Africa\n",
        "Cgra[[\"Eastern Africa\"]].iplot(kind='hist',xTitle='Superficie', \n",
        "                           title='Distribución de la superficie de los países de la región de Eastern Africa')"
      ],
      "metadata": {
        "id": "sanMoIOTBzJo"
      },
      "execution_count": null,
      "outputs": []
    },
    {
      "cell_type": "code",
      "source": [
        "#Scatterplot: \n",
        "#Se elabora un scatterplot acerca de la superficie por país y región \n",
        "Cgra.iplot(kind='scatter', mode='markers',xTitle='País', \n",
        "                               title='Superficie por país y región')"
      ],
      "metadata": {
        "id": "or2HhXZEB0dl"
      },
      "execution_count": null,
      "outputs": []
    },
    {
      "cell_type": "code",
      "source": [
        "# Para poder realizar las visualizaciones de nuestro dataframe hagamos algunas restructuraciones \n",
        "#La función pivot establece un índice, columns establece las columnas (índice, columnas y datos)\n",
        "#La columna elegida como índice no debe tener entradas duplicadas \n",
        "Crep= Country.pivot(index='local_name', columns='government_form',  values='independence_year')\n",
        "Crep"
      ],
      "metadata": {
        "id": "lIdhqeMfB182"
      },
      "execution_count": null,
      "outputs": []
    },
    {
      "cell_type": "code",
      "source": [
        "# Gráfico de líneas: \n",
        "# Se elabora un gráfico sobre el año de independencia y la forma de gobierno \n",
        "# plotting\n",
        "Crep.iplot(kind='line', xTitle='local_name',\n",
        "                           yTitle='Año de independencia', title='Año de independencia y forma de gobierno')"
      ],
      "metadata": {
        "id": "vvFYJBhBB9In"
      },
      "execution_count": null,
      "outputs": []
    },
    {
      "cell_type": "code",
      "source": [
        "#Gráfico de barras \n",
        "#Se elabora un gráfico de barras sobre el año de independencia y la forma de gobierno \n",
        "Crep.iplot(kind='bar', xTitle='local_name',\n",
        "                           yTitle='Año de independencia', title='Año de independencia y forma de gobierno')"
      ],
      "metadata": {
        "id": "0Mw_zRHwB-10"
      },
      "execution_count": null,
      "outputs": []
    },
    {
      "cell_type": "code",
      "source": [
        "#Box plot\n",
        "#Se elabora un box plot sobre la forma de gobierno y el año de independencia \n",
        "Crep.iplot(kind='box', xTitle='Forma de gobierno',\n",
        "                           yTitle='Año de independencia', title='Año de independencia y forma de gobierno')"
      ],
      "metadata": {
        "id": "ba79FXp-CG6H"
      },
      "execution_count": null,
      "outputs": []
    },
    {
      "cell_type": "code",
      "source": [
        "#Histograma\n",
        "#Se elabora un histograma acerca de la distribución del año de independencia en la forma de gobierno Constitutional Monarchy\n",
        "Crep[[\"Constitutional Monarchy\"]].iplot(kind='hist', xTitle='Año de independencia',\n",
        "                           yTitle='Frecuencia', title='Distribución del año de independencia en la forma de gobierno Constitutional Monarchy')"
      ],
      "metadata": {
        "id": "ZMYDzHA9CJRN"
      },
      "execution_count": null,
      "outputs": []
    },
    {
      "cell_type": "code",
      "source": [
        "#Scatterplot: \n",
        "#Se elabora un scatterplot acerca de la superficie por el año de independencia y la forma de gobierno \n",
        "Crep.iplot(kind='scatter', mode='markers',xTitle='País', \n",
        "                               title='Año de independencia y forma de gobierno')"
      ],
      "metadata": {
        "id": "MrVrVKrKCKn9"
      },
      "execution_count": null,
      "outputs": []
    }
  ]
}